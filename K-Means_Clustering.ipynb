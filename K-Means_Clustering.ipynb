{
 "cells": [
  {
   "cell_type": "markdown",
   "metadata": {
    "collapsed": true
   },
   "source": [
    "### Machine Learning: K-Means Clustering\n",
    "___\n",
    "\n",
    "#### Summary:\n",
    "\n",
    "The K-means clustering algorithm is categorized as an unsupervised learning algorithm. It takes in\n",
    "examples X (with no y) and then tries to assign these examples to one of K clusters. The parameter\n",
    "K is chosen by the user. In this notebook we derive the K-Means algorithm for clustering and test it. \n",
    "We also show how to apply K-Means clustering using the sklearn library.\n",
    "___\n",
    "#### This notebook will include:\n",
    "1. K-Means derivation\n",
    "2. K-Means w/ sklearn\n",
    "___\n",
    "#### Reference: \n",
    "\n",
    "N/A\n"
   ]
  },
  {
   "cell_type": "code",
   "execution_count": 1,
   "metadata": {
    "collapsed": false
   },
   "outputs": [
    {
     "name": "stdout",
     "output_type": "stream",
     "text": [
      "X: (24, 2)\n"
     ]
    },
    {
     "data": {
      "image/png": "[encoded data removed]",
      "text/plain": [
       "<matplotlib.figure.Figure at 0x43430f0>"
      ]
     },
     "metadata": {},
     "output_type": "display_data"
    }
   ],
   "source": [
    "# Example dataset\n",
    "\"\"\"\n",
    "The dataset that we will be using to test the K-means algorithm contains 24 examples with 2 input \n",
    "features.\n",
    "\"\"\"\n",
    "# Importing the libraries\n",
    "import matplotlib.pyplot as plt\n",
    "%matplotlib inline\n",
    "import numpy as np\n",
    "\n",
    "# Creating the dataset\n",
    "X = np.array([[1,2],[1.1,1],[1.5,1.5],[1.6,2.2],[1.7,0.7],[2,1.5],\n",
    "              [1,5],[1.2,6],[1.6,5.5],[1.7,6.2],[1.8,6.7],[2,5.5],\n",
    "              [3.2,3],[3.3,4],[3.6,3.9],[4.1,3.7],[4.3,3.3],[4.3,4],\n",
    "              [6,6],[6.3,6],[6.3,7],[6.4,6.3],[7,6],[7,7]])\n",
    "\n",
    "# Printing the dataset shape\n",
    "print('X:', X.shape)\n",
    "\n",
    "# Plotting the dataset\n",
    "plt.plot(X[:,0], X[:,1], 'ro')\n",
    "\n",
    "plt.title('Dataset')\n",
    "plt.xlabel('X1')\n",
    "plt.ylabel('X2')"
   ]
  },
  {
   "cell_type": "code",
   "execution_count": 19,
   "metadata": {
    "collapsed": false
   },
   "outputs": [],
   "source": [
    "# K-Means Clustering\n",
    "\"\"\"\n",
    "In this section we derive the K-means clustering algorithm using simple numpy functions. The function\n",
    "takes in the examples X and the number of clusters K as parameters, and returns the squared distance\n",
    "cost, the centroids and the cluster the examples are assigned to.\n",
    "\"\"\"\n",
    "\n",
    "def K_Means(X, K):\n",
    "    # Importing the libraries\n",
    "    import numpy as np\n",
    "    \n",
    "    # Perform K-means 10 times with different random initializations\n",
    "    cost_best =1e100 # Initialize the best cost to a very large value\n",
    "    for num_iter in range (10):      \n",
    "        # Initialize the centroids to K random examples \n",
    "        X_shuffled = np.array(X)\n",
    "        np.random.shuffle(X_shuffled)\n",
    "        centroids = X_shuffled[:K, :]\n",
    "        \n",
    "        # Perform K-means\n",
    "        prev_cc = np.zeros((X.shape[0], 1)) # Initialize the previous closest centroids             \n",
    "        for num_iter in range (1000):            \n",
    "            # Compute the squared distance between the examples and centroids\n",
    "            distance2 = np.zeros((X.shape[0], K))            \n",
    "            for i in range (X.shape[0]):\n",
    "                for j in range (K):\n",
    "                    distance2[i, j] = np.sum(np.square(X[i, :] - centroids[j, :]))\n",
    "\n",
    "            # Assign the examples to the closest centroid\n",
    "            cc = np.argmin(distance2, axis = 1).reshape(-1,1)\n",
    "            \n",
    "            # Update the centroids\n",
    "            if np.array_equal(cc, prev_cc):\n",
    "                break\n",
    "            else:\n",
    "                prev_cc = np.array(cc)\n",
    "                for i in range (K): \n",
    "                    idx = cc == i\n",
    "                    centroids[i, :] = np.sum(X * idx, axis = 0) / np.sum(idx)\n",
    "\n",
    "        # Calculate the sum of the squared distance cost between every example and its closest centroid\n",
    "        cost = 0\n",
    "        for i in range (K):\n",
    "            idx = cc == i\n",
    "            cost = cost + np.sum(np.square(X - centroids[i,:]) * idx)\n",
    "\n",
    "        # Select the optimal K-means result from the 10 attempted\n",
    "        if cost < cost_best:\n",
    "            cost_best = cost\n",
    "            centroids_best = centroids\n",
    "            cc_best = cc.ravel()\n",
    "    \n",
    "    # Return the cost, the centroids, and the clusters the examples are assigned\n",
    "    return cost_best, centroids_best, cc_best"
   ]
  },
  {
   "cell_type": "code",
   "execution_count": 20,
   "metadata": {
    "collapsed": false
   },
   "outputs": [
    {
     "name": "stdout",
     "output_type": "stream",
     "text": [
      "Squared distance cost: 9.02333333333\n",
      "\n",
      "Centroids:\n",
      " [[ 1.48333333  1.48333333]\n",
      " [ 3.8         3.65      ]\n",
      " [ 6.5         6.38333333]\n",
      " [ 1.55        5.81666667]]\n",
      "\n",
      "Clusters assigned to X:  [0 0 0 0 0 0 3 3 3 3 3 3 1 1 1 1 1 1 2 2 2 2 2 2]\n"
     ]
    },
    {
     "data": {
      "image/png": "[encoded data removed]",
      "text/plain": [
       "<matplotlib.figure.Figure at 0x1a5f51d0>"
      ]
     },
     "metadata": {},
     "output_type": "display_data"
    }
   ],
   "source": [
    "# K-means Clustering\n",
    "\"\"\"\n",
    "Run the K-means clustering algorithm derived above.\n",
    "\"\"\"\n",
    "\n",
    "# Applying the K-means algorithm to the dataset\n",
    "cost, centroids, cc = K_Means(X, 4)\n",
    "\n",
    "# Printing the cost, the centroids, and the clusters the examples are assigned\n",
    "print('Squared distance cost:', cost)\n",
    "print('\\nCentroids:\\n', centroids)\n",
    "print('\\nClusters assigned to X: ', cc)\n",
    "\n",
    "# Plotting the clusters and centroids\n",
    "plt.plot(X[cc==0,0], X[cc==0,1], 'ro', label = 'Cluster 1')\n",
    "plt.plot(X[cc==1,0], X[cc==1,1], 'bo', label = 'Cluster 2')\n",
    "plt.plot(X[cc==2,0], X[cc==2,1], 'go', label = 'Cluster 3')\n",
    "plt.plot(X[cc==3,0], X[cc==3,1], 'co', label = 'Cluster 4')\n",
    "plt.plot(centroids[:,0], centroids[:,1], 'm^', label = 'Centroids')\n",
    "\n",
    "plt.title('Dataset')\n",
    "plt.xlabel('X1')\n",
    "plt.ylabel('X2')\n",
    "plt.legend()"
   ]
  },
  {
   "cell_type": "code",
   "execution_count": 21,
   "metadata": {
    "collapsed": false
   },
   "outputs": [
    {
     "name": "stdout",
     "output_type": "stream",
     "text": [
      "Squared distance cost: 9.02333333333\n",
      "\n",
      "Centroids:\n",
      " [[ 1.55        5.81666667]\n",
      " [ 6.5         6.38333333]\n",
      " [ 1.48333333  1.48333333]\n",
      " [ 3.8         3.65      ]]\n",
      "\n",
      "Clusters assigned to X: [2 2 2 2 2 2 0 0 0 0 0 0 3 3 3 3 3 3 1 1 1 1 1 1]\n"
     ]
    },
    {
     "data": {
      "image/png": "[encoded data removed]",
      "text/plain": [
       "<matplotlib.figure.Figure at 0x1a657390>"
      ]
     },
     "metadata": {},
     "output_type": "display_data"
    }
   ],
   "source": [
    "# K-Means Clustering w/ sklearn\n",
    "\"\"\"\n",
    "Here instead of using our own function, we run the K-means clustering algorithm from the sklearn library.\n",
    "\"\"\"\n",
    "\n",
    "from sklearn.cluster import KMeans\n",
    "\n",
    "# Creating and fitting the K-means algorithm to the dataset\n",
    "kmeans = KMeans(n_clusters = 4)\n",
    "kmeans.fit(X)\n",
    "cc = kmeans.predict(X)\n",
    "\n",
    "# Printing the cost, the centroids, and the clusters the examples are assigned\n",
    "print('Squared distance cost:', kmeans.inertia_)\n",
    "print('\\nCentroids:\\n', kmeans.cluster_centers_)\n",
    "print('\\nClusters assigned to X:', kmeans.labels_)\n",
    "\n",
    "# Plotting the clusters and centroids\n",
    "plt.plot(X[cc==0,0], X[cc==0,1], 'ro', label = 'Cluster 1')\n",
    "plt.plot(X[cc==1,0], X[cc==1,1], 'bo', label = 'Cluster 2')\n",
    "plt.plot(X[cc==2,0], X[cc==2,1], 'go', label = 'Cluster 3')\n",
    "plt.plot(X[cc==3,0], X[cc==3,1], 'co', label = 'Cluster 4')\n",
    "plt.plot(centroids[:,0], centroids[:,1], 'm^', label = 'Centroids')\n",
    "\n",
    "plt.title('Dataset')\n",
    "plt.xlabel('X1')\n",
    "plt.ylabel('X2')\n",
    "plt.legend()"
   ]
  }
 ],
 "metadata": {
  "kernelspec": {
   "display_name": "Python 3",
   "language": "python",
   "name": "python3"
  },
  "language_info": {
   "codemirror_mode": {
    "name": "ipython",
    "version": 3
   },
   "file_extension": ".py",
   "mimetype": "text/x-python",
   "name": "python",
   "nbconvert_exporter": "python",
   "pygments_lexer": "ipython3",
   "version": "3.5.4"
  }
 },
 "nbformat": 4,
 "nbformat_minor": 0
}
